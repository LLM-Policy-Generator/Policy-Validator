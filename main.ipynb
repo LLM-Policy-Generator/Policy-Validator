{
  "nbformat": 4,
  "nbformat_minor": 0,
  "metadata": {
    "colab": {
      "provenance": []
    },
    "kernelspec": {
      "name": "python3",
      "display_name": "Python 3"
    },
    "language_info": {
      "name": "python"
    }
  },
  "cells": [
    {
      "cell_type": "markdown",
      "source": [
        "# Policy Consistency Validation Notebook\n",
        "\n",
        "This notebook validates generated IDS policies against the expected IDS ontology. It is organized as follows:\n",
        "\n",
        "- **Setup & Imports**: Import libraries and set paths.\n",
        "- **Data Loading**: Load the generated policies from an Excel file.\n",
        "- **Validation Functions**: Define functions to validate the policy JSON structure.\n",
        "- **Policy Validation**: Apply validation to each generated policy.\n",
        "- **Validation Summary**: Summarize and visualize the validation results.\n",
        "- **Conclusion**: Final remarks and next steps."
      ],
      "metadata": {
        "id": "1aMrFYKmth5_"
      }
    },
    {
      "cell_type": "code",
      "source": [
        "import os\n",
        "import json\n",
        "import re\n",
        "import time\n",
        "import pandas as pd\n",
        "import matplotlib.pyplot as plt\n",
        "\n",
        "# Set the path for the generated policies file (update as necessary)\n",
        "data_file = 'Generated_Policies.xlsx'\n",
        "print(\"Setup complete. Libraries imported.\")"
      ],
      "metadata": {
        "id": "Q_wtr4ortkRM"
      },
      "execution_count": null,
      "outputs": []
    },
    {
      "cell_type": "code",
      "source": [
        "# Load the generated policies from the Excel file\n",
        "try:\n",
        "    df = pd.read_excel(data_file)\n",
        "    print(f\"Data loaded successfully. Shape: {df.shape}\")\n",
        "except Exception as e:\n",
        "    print(f\"Error loading data: {e}\")\n",
        "\n",
        "# Display the first few rows for verification\n",
        "print(df.head(10))"
      ],
      "metadata": {
        "id": "OC3fSjr6tlC0"
      },
      "execution_count": null,
      "outputs": []
    },
    {
      "cell_type": "code",
      "source": [
        "def validate_policy(policy):\n",
        "    \"\"\"\n",
        "    Validate an IDS policy for consistency with the IDS ontology.\n",
        "\n",
        "    Parameters:\n",
        "      policy (dict): The policy JSON object.\n",
        "\n",
        "    Returns:\n",
        "      tuple: (bool, str) where the boolean indicates validity and the string provides a message.\n",
        "    \"\"\"\n",
        "    if not isinstance(policy, dict):\n",
        "        return False, \"Policy is not a dictionary.\"\n",
        "    if \"policy\" not in policy:\n",
        "        return False, \"Missing top-level 'policy' key.\"\n",
        "\n",
        "    pol = policy[\"policy\"]\n",
        "    if \"permissions\" not in pol:\n",
        "        return False, \"Missing 'permissions' key in policy.\"\n",
        "    if not isinstance(pol[\"permissions\"], list) or not pol[\"permissions\"]:\n",
        "        return False, \"'permissions' should be a non-empty list.\"\n",
        "\n",
        "    for perm in pol[\"permissions\"]:\n",
        "        if not isinstance(perm, dict):\n",
        "            return False, \"Each permission must be a dictionary.\"\n",
        "        required_keys = [\"assignee\", \"action\", \"constraints\"]\n",
        "        for key in required_keys:\n",
        "            if key not in perm:\n",
        "                return False, f\"Permission missing required key: '{key}'.\"\n",
        "        if not isinstance(perm[\"constraints\"], list) or not perm[\"constraints\"]:\n",
        "            return False, \"Each permission should have a non-empty 'constraints' list.\"\n",
        "        for constraint in perm[\"constraints\"]:\n",
        "            if not isinstance(constraint, dict):\n",
        "                return False, \"Each constraint must be a dictionary.\"\n",
        "            for c_key in [\"leftOperand\", \"operator\", \"rightOperand\"]:\n",
        "                if c_key not in constraint:\n",
        "                    return False, f\"Constraint missing key: '{c_key}'.\"\n",
        "    return True, \"Policy is valid.\"\n",
        "\n",
        "def validate_policy_json(policy_str):\n",
        "    \"\"\"\n",
        "    Parse a policy JSON string and validate its structure.\n",
        "\n",
        "    Parameters:\n",
        "      policy_str (str): The generated policy as a JSON-formatted string.\n",
        "\n",
        "    Returns:\n",
        "      tuple: (bool, str) indicating whether the policy is valid and an associated message.\n",
        "    \"\"\"\n",
        "    try:\n",
        "        policy = json.loads(policy_str)\n",
        "    except Exception as e:\n",
        "        return False, f\"Error parsing JSON: {e}\"\n",
        "\n",
        "    return validate_policy(policy)\n",
        "\n",
        "print(\"Validation functions defined.\")"
      ],
      "metadata": {
        "id": "Ihjtg_rKtnBP"
      },
      "execution_count": null,
      "outputs": []
    },
    {
      "cell_type": "code",
      "source": [
        "# Ensure that the 'Generated_Policy' column exists in the DataFrame\n",
        "if 'Generated_Policy' not in df.columns:\n",
        "    print(\"Error: 'Generated_Policy' column not found in the data.\")\n",
        "else:\n",
        "    # Apply the validation function to each policy in the DataFrame\n",
        "    validation_results = df['Generated_Policy'].apply(\n",
        "        lambda x: validate_policy_json(x) if pd.notnull(x) else (False, \"No policy provided\")\n",
        "    )\n",
        "\n",
        "    # Create new columns for validation status and message\n",
        "    df['Validation_Status'] = validation_results.apply(lambda tup: tup[0])\n",
        "    df['Validation_Message'] = validation_results.apply(lambda tup: tup[1])\n",
        "\n",
        "    # Display a sample of the validation results\n",
        "    print(df[['Policy', 'Generated_Policy', 'Validation_Status', 'Validation_Message']].head(10))"
      ],
      "metadata": {
        "id": "zzI0j8GUtozA"
      },
      "execution_count": null,
      "outputs": []
    },
    {
      "cell_type": "code",
      "source": [
        "# Count valid vs. invalid policies\n",
        "validation_summary = df['Validation_Status'].value_counts()\n",
        "print(\"Validation Summary:\")\n",
        "print(validation_summary)\n",
        "\n",
        "# Visualize the results as a bar chart\n",
        "plt.figure(figsize=(6, 4))\n",
        "validation_summary.plot(kind='bar')\n",
        "plt.title(\"Validation Status of Generated Policies\")\n",
        "plt.xlabel(\"Valid (True) / Invalid (False)\")\n",
        "plt.ylabel(\"Number of Policies\")\n",
        "plt.show()"
      ],
      "metadata": {
        "id": "Teq5bg_YttDB"
      },
      "execution_count": null,
      "outputs": []
    },
    {
      "cell_type": "markdown",
      "source": [
        "## Conclusion\n",
        "\n",
        "This notebook validated the generated IDS policies against the expected ontology structure. The summary and visualizations indicate which policies adhere to the IDS standards and which require further review. Future work could involve refining policy generation or implementing more granular validation rules."
      ],
      "metadata": {
        "id": "79XsCK3ptu5H"
      }
    }
  ]
}